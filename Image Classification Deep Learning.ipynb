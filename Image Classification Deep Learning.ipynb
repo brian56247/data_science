{
 "cells": [
  {
   "cell_type": "markdown",
   "metadata": {
    "id": "iQjHqsmTAVLU"
   },
   "source": [
    "## Image Classification Using Deep Learning\n",
    "\n",
    "Here I use a dataset of over 60,000 images of clothing to train a convolutional neural network to categorize new images of clothing items. I use a single convolutional layer and a single MaxPooling 2D filter. The model is trained to a test set accuracy of 0.985 and a training set accuracy of 0.998."
   ]
  },
  {
   "cell_type": "code",
   "execution_count": 2,
   "metadata": {
    "colab": {
     "base_uri": "https://localhost:8080/"
    },
    "id": "sfQRyaJWAIdg",
    "outputId": "3045c5a0-f0bd-4de1-bfeb-decc96969482"
   },
   "outputs": [
    {
     "name": "stdout",
     "output_type": "stream",
     "text": [
      "Epoch 1/20\n",
      "1875/1875 [==============================] - 48s 25ms/step - loss: 0.2642 - accuracy: 0.9210\n",
      "Epoch 2/20\n",
      "1875/1875 [==============================] - 47s 25ms/step - loss: 0.0438 - accuracy: 0.9864\n",
      "Epoch 3/20\n",
      "1875/1875 [==============================] - 47s 25ms/step - loss: 0.0274 - accuracy: 0.9911\n",
      "Epoch 4/20\n",
      "1875/1875 [==============================] - 46s 25ms/step - loss: 0.0170 - accuracy: 0.9946\n",
      "Epoch 5/20\n",
      "1875/1875 [==============================] - 46s 25ms/step - loss: 0.0098 - accuracy: 0.9971\n",
      "Epoch 6/20\n",
      "1875/1875 [==============================] - 47s 25ms/step - loss: 0.0087 - accuracy: 0.9968\n",
      "Epoch 7/20\n",
      "1875/1875 [==============================] - 46s 25ms/step - loss: 0.0056 - accuracy: 0.9982\n",
      "Epoch 8/20\n",
      "1875/1875 [==============================] - 46s 25ms/step - loss: 0.0045 - accuracy: 0.9985\n",
      "\n",
      " Reached 99.8% accuracy so cancelling training!\n",
      "313/313 [==============================] - 2s 6ms/step - loss: 0.0520 - accuracy: 0.9870\n",
      "Test set accuracy =  0.9869999885559082\n"
     ]
    }
   ],
   "source": [
    "import tensorflow as tf\n",
    "class myCallback(tf.keras.callbacks.Callback):\n",
    "  def on_epoch_end(self, epoch, logs = {}):\n",
    "    if (logs.get('accuracy') > 0.998):\n",
    "      print('\\n Reached 99.8% accuracy so cancelling training!')\n",
    "      self.model.stop_training = True\n",
    "# A callback to determine when to end training\n",
    "callbacks = myCallback()\n",
    "mnist = tf.keras.datasets.mnist\n",
    "(x_train, y_train),(x_test, y_test) = mnist.load_data()\n",
    "training_images=x_train.reshape(60000, 28, 28, 1)\n",
    "training_images=training_images / 255.0\n",
    "test_images = x_test.reshape(10000, 28, 28, 1)\n",
    "test_images=test_images/255.0\n",
    "model = tf.keras.models.Sequential([\n",
    "  tf.keras.layers.Conv2D(64, (3,3), activation='relu', input_shape=(28, 28, 1)),\n",
    "  tf.keras.layers.MaxPooling2D(2, 2),\n",
    "  tf.keras.layers.Flatten(),\n",
    "  tf.keras.layers.Dense(128, activation='relu'),\n",
    "  tf.keras.layers.Dense(10, activation='softmax')    \n",
    "])\n",
    "model.compile(optimizer='adam', loss='sparse_categorical_crossentropy', metrics=['accuracy'])\n",
    "model.fit(training_images, y_train, epochs=20, callbacks = [callbacks])\n",
    "test_loss, test_acc = model.evaluate(test_images, y_test)\n",
    "print('Test set accuracy = ', test_acc)"
   ]
  }
 ],
 "metadata": {
  "colab": {
   "collapsed_sections": [],
   "name": "Exercise 3 - Question.ipynb",
   "provenance": [],
   "toc_visible": true
  },
  "kernelspec": {
   "display_name": "Python 3",
   "language": "python",
   "name": "python3"
  },
  "language_info": {
   "codemirror_mode": {
    "name": "ipython",
    "version": 3
   },
   "file_extension": ".py",
   "mimetype": "text/x-python",
   "name": "python",
   "nbconvert_exporter": "python",
   "pygments_lexer": "ipython3",
   "version": "3.7.6"
  }
 },
 "nbformat": 4,
 "nbformat_minor": 4
}
